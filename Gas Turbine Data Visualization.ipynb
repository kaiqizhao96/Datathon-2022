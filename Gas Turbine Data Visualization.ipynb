{
 "cells": [
  {
   "cell_type": "markdown",
   "id": "80ae0dd2",
   "metadata": {},
   "source": [
    "# Gas Turbines Data Analysis"
   ]
  },
  {
   "cell_type": "markdown",
   "id": "13a63f3e",
   "metadata": {},
   "source": [
    "By Kaiqi Zhao, Kaitlyn Reist, and Kyeongseo Choi"
   ]
  },
  {
   "cell_type": "markdown",
   "id": "92993a2b",
   "metadata": {},
   "source": [
    "Today We will be analyzing a synthetic dataset for the operation of gas turbine engines from different customer sites around the world. We seek to analyze and find insights into how energy can be generated in a way that leads to the least environmental harm."
   ]
  },
  {
   "cell_type": "markdown",
   "id": "3904a036",
   "metadata": {},
   "source": [
    "# 1. Loading our Data and importing packages"
   ]
  },
  {
   "cell_type": "code",
   "execution_count": 1,
   "id": "395dba96",
   "metadata": {},
   "outputs": [],
   "source": [
    "import numpy as np\n",
    "import pandas as pd\n",
    "import re\n",
    "import seaborn as sns\n",
    "import matplotlib.pyplot as plt"
   ]
  },
  {
   "cell_type": "code",
   "execution_count": 2,
   "id": "77649e64",
   "metadata": {},
   "outputs": [
    {
     "data": {
      "text/html": [
       "<div>\n",
       "<style scoped>\n",
       "    .dataframe tbody tr th:only-of-type {\n",
       "        vertical-align: middle;\n",
       "    }\n",
       "\n",
       "    .dataframe tbody tr th {\n",
       "        vertical-align: top;\n",
       "    }\n",
       "\n",
       "    .dataframe thead th {\n",
       "        text-align: right;\n",
       "    }\n",
       "</style>\n",
       "<table border=\"1\" class=\"dataframe\">\n",
       "  <thead>\n",
       "    <tr style=\"text-align: right;\">\n",
       "      <th></th>\n",
       "      <th>Unnamed: 0</th>\n",
       "      <th>CMP_SPEED</th>\n",
       "      <th>POWER</th>\n",
       "      <th>FUEL_FLOW</th>\n",
       "      <th>CO2</th>\n",
       "    </tr>\n",
       "  </thead>\n",
       "  <tbody>\n",
       "    <tr>\n",
       "      <th>0</th>\n",
       "      <td>2021-01-01 00:00:00</td>\n",
       "      <td>9086.266279</td>\n",
       "      <td>13905.170114</td>\n",
       "      <td>1.775834</td>\n",
       "      <td>4.655888</td>\n",
       "    </tr>\n",
       "    <tr>\n",
       "      <th>1</th>\n",
       "      <td>2021-01-01 01:00:00</td>\n",
       "      <td>9092.889629</td>\n",
       "      <td>13948.422258</td>\n",
       "      <td>1.777604</td>\n",
       "      <td>4.660529</td>\n",
       "    </tr>\n",
       "    <tr>\n",
       "      <th>2</th>\n",
       "      <td>2021-01-01 02:00:00</td>\n",
       "      <td>9083.496415</td>\n",
       "      <td>13915.430132</td>\n",
       "      <td>1.775123</td>\n",
       "      <td>4.654023</td>\n",
       "    </tr>\n",
       "    <tr>\n",
       "      <th>3</th>\n",
       "      <td>2021-01-01 03:00:00</td>\n",
       "      <td>9091.149440</td>\n",
       "      <td>13924.413251</td>\n",
       "      <td>1.776514</td>\n",
       "      <td>4.657670</td>\n",
       "    </tr>\n",
       "    <tr>\n",
       "      <th>4</th>\n",
       "      <td>2021-01-01 04:00:00</td>\n",
       "      <td>9098.178455</td>\n",
       "      <td>13951.961041</td>\n",
       "      <td>1.776658</td>\n",
       "      <td>4.658047</td>\n",
       "    </tr>\n",
       "  </tbody>\n",
       "</table>\n",
       "</div>"
      ],
      "text/plain": [
       "            Unnamed: 0    CMP_SPEED         POWER  FUEL_FLOW       CO2\n",
       "0  2021-01-01 00:00:00  9086.266279  13905.170114   1.775834  4.655888\n",
       "1  2021-01-01 01:00:00  9092.889629  13948.422258   1.777604  4.660529\n",
       "2  2021-01-01 02:00:00  9083.496415  13915.430132   1.775123  4.654023\n",
       "3  2021-01-01 03:00:00  9091.149440  13924.413251   1.776514  4.657670\n",
       "4  2021-01-01 04:00:00  9098.178455  13951.961041   1.776658  4.658047"
      ]
     },
     "execution_count": 2,
     "metadata": {},
     "output_type": "execute_result"
    }
   ],
   "source": [
    "site = pd.read_csv('site_metadata.csv')\n",
    "engine = pd.read_csv('engine_metadata.csv')\n",
    "data_from_engine = []\n",
    "for filename in engine['FILE_ID']:\n",
    "    data_from_engine.append(pd.read_csv('all_data_v2/' + filename))\n",
    "data_from_engine[0].head()"
   ]
  },
  {
   "cell_type": "markdown",
   "id": "2d7e63e5",
   "metadata": {},
   "source": [
    "`all_data_v2` is a folder that contains multiple csv files that are named in the `engine` dataframe. To load that data in a way that is usable, we created a list of lists `data_from_engine` so that we can access each individual csv file from indexing."
   ]
  },
  {
   "cell_type": "code",
   "execution_count": 3,
   "id": "2f6cf32a",
   "metadata": {},
   "outputs": [
    {
     "data": {
      "text/html": [
       "<div>\n",
       "<style scoped>\n",
       "    .dataframe tbody tr th:only-of-type {\n",
       "        vertical-align: middle;\n",
       "    }\n",
       "\n",
       "    .dataframe tbody tr th {\n",
       "        vertical-align: top;\n",
       "    }\n",
       "\n",
       "    .dataframe thead th {\n",
       "        text-align: right;\n",
       "    }\n",
       "</style>\n",
       "<table border=\"1\" class=\"dataframe\">\n",
       "  <thead>\n",
       "    <tr style=\"text-align: right;\">\n",
       "      <th></th>\n",
       "      <th>CUSTOMER_NAME</th>\n",
       "      <th>PLANT_NAME</th>\n",
       "      <th>LATITUDE</th>\n",
       "      <th>LONGITUDE</th>\n",
       "      <th>ELEVATION</th>\n",
       "      <th>FUEL_N2_MOL_PCT</th>\n",
       "      <th>FUEL_MW</th>\n",
       "      <th>FUEL_LHV</th>\n",
       "      <th>CO2_FUEL_RATIO</th>\n",
       "    </tr>\n",
       "  </thead>\n",
       "  <tbody>\n",
       "    <tr>\n",
       "      <th>0</th>\n",
       "      <td>SPIFFY</td>\n",
       "      <td>SPIRITUAL-POLECAT</td>\n",
       "      <td>61.170356</td>\n",
       "      <td>42.874767</td>\n",
       "      <td>112.000000</td>\n",
       "      <td>4.445063</td>\n",
       "      <td>16.572225</td>\n",
       "      <td>21514.22237</td>\n",
       "      <td>2.621803</td>\n",
       "    </tr>\n",
       "    <tr>\n",
       "      <th>1</th>\n",
       "      <td>NONCHALANT</td>\n",
       "      <td>NIFTY-ROOK</td>\n",
       "      <td>37.554516</td>\n",
       "      <td>49.908217</td>\n",
       "      <td>-29.000000</td>\n",
       "      <td>1.053145</td>\n",
       "      <td>16.166097</td>\n",
       "      <td>21526.47083</td>\n",
       "      <td>2.714870</td>\n",
       "    </tr>\n",
       "    <tr>\n",
       "      <th>2</th>\n",
       "      <td>NONCHALANT</td>\n",
       "      <td>PREHISTORIC-PETREL</td>\n",
       "      <td>29.190866</td>\n",
       "      <td>60.491702</td>\n",
       "      <td>1552.426025</td>\n",
       "      <td>10.298848</td>\n",
       "      <td>17.273122</td>\n",
       "      <td>21494.43867</td>\n",
       "      <td>2.461189</td>\n",
       "    </tr>\n",
       "    <tr>\n",
       "      <th>3</th>\n",
       "      <td>NONCHALANT</td>\n",
       "      <td>THERAPEUTIC-LIONFISH</td>\n",
       "      <td>13.253365</td>\n",
       "      <td>76.411056</td>\n",
       "      <td>867.591553</td>\n",
       "      <td>13.188814</td>\n",
       "      <td>17.619149</td>\n",
       "      <td>21485.25198</td>\n",
       "      <td>2.381895</td>\n",
       "    </tr>\n",
       "    <tr>\n",
       "      <th>4</th>\n",
       "      <td>SOFT</td>\n",
       "      <td>ABORIGINAL-PICULET</td>\n",
       "      <td>-68.632002</td>\n",
       "      <td>66.155301</td>\n",
       "      <td>1253.152832</td>\n",
       "      <td>7.581916</td>\n",
       "      <td>16.947813</td>\n",
       "      <td>21503.41744</td>\n",
       "      <td>2.535736</td>\n",
       "    </tr>\n",
       "  </tbody>\n",
       "</table>\n",
       "</div>"
      ],
      "text/plain": [
       "  CUSTOMER_NAME            PLANT_NAME   LATITUDE  LONGITUDE    ELEVATION  \\\n",
       "0        SPIFFY     SPIRITUAL-POLECAT  61.170356  42.874767   112.000000   \n",
       "1    NONCHALANT            NIFTY-ROOK  37.554516  49.908217   -29.000000   \n",
       "2    NONCHALANT    PREHISTORIC-PETREL  29.190866  60.491702  1552.426025   \n",
       "3    NONCHALANT  THERAPEUTIC-LIONFISH  13.253365  76.411056   867.591553   \n",
       "4          SOFT    ABORIGINAL-PICULET -68.632002  66.155301  1253.152832   \n",
       "\n",
       "   FUEL_N2_MOL_PCT    FUEL_MW     FUEL_LHV  CO2_FUEL_RATIO  \n",
       "0         4.445063  16.572225  21514.22237        2.621803  \n",
       "1         1.053145  16.166097  21526.47083        2.714870  \n",
       "2        10.298848  17.273122  21494.43867        2.461189  \n",
       "3        13.188814  17.619149  21485.25198        2.381895  \n",
       "4         7.581916  16.947813  21503.41744        2.535736  "
      ]
     },
     "execution_count": 3,
     "metadata": {},
     "output_type": "execute_result"
    }
   ],
   "source": [
    "site.head()"
   ]
  },
  {
   "cell_type": "markdown",
   "id": "f48d4a37",
   "metadata": {},
   "source": [
    "`FUEL_MW` resulting molecular weight of the gas fuel. `FUEL_N2_MOL_PCT` is the percentage of N2 in the fuel mixture."
   ]
  },
  {
   "cell_type": "code",
   "execution_count": 4,
   "id": "11e6abb8",
   "metadata": {},
   "outputs": [
    {
     "data": {
      "text/html": [
       "<div>\n",
       "<style scoped>\n",
       "    .dataframe tbody tr th:only-of-type {\n",
       "        vertical-align: middle;\n",
       "    }\n",
       "\n",
       "    .dataframe tbody tr th {\n",
       "        vertical-align: top;\n",
       "    }\n",
       "\n",
       "    .dataframe thead th {\n",
       "        text-align: right;\n",
       "    }\n",
       "</style>\n",
       "<table border=\"1\" class=\"dataframe\">\n",
       "  <thead>\n",
       "    <tr style=\"text-align: right;\">\n",
       "      <th></th>\n",
       "      <th>CUSTOMER_NAME</th>\n",
       "      <th>PLANT_NAME</th>\n",
       "      <th>ENGINE_ID</th>\n",
       "      <th>FILE_ID</th>\n",
       "    </tr>\n",
       "  </thead>\n",
       "  <tbody>\n",
       "    <tr>\n",
       "      <th>0</th>\n",
       "      <td>SPIFFY</td>\n",
       "      <td>SPIRITUAL-POLECAT</td>\n",
       "      <td>ENGINE_1</td>\n",
       "      <td>data_1.csv</td>\n",
       "    </tr>\n",
       "    <tr>\n",
       "      <th>1</th>\n",
       "      <td>SPIFFY</td>\n",
       "      <td>SPIRITUAL-POLECAT</td>\n",
       "      <td>ENGINE_2</td>\n",
       "      <td>data_2.csv</td>\n",
       "    </tr>\n",
       "    <tr>\n",
       "      <th>2</th>\n",
       "      <td>SPIFFY</td>\n",
       "      <td>SPIRITUAL-POLECAT</td>\n",
       "      <td>ENGINE_3</td>\n",
       "      <td>data_3.csv</td>\n",
       "    </tr>\n",
       "    <tr>\n",
       "      <th>3</th>\n",
       "      <td>NONCHALANT</td>\n",
       "      <td>NIFTY-ROOK</td>\n",
       "      <td>ENGINE_1</td>\n",
       "      <td>data_4.csv</td>\n",
       "    </tr>\n",
       "    <tr>\n",
       "      <th>4</th>\n",
       "      <td>NONCHALANT</td>\n",
       "      <td>NIFTY-ROOK</td>\n",
       "      <td>ENGINE_2</td>\n",
       "      <td>data_5.csv</td>\n",
       "    </tr>\n",
       "  </tbody>\n",
       "</table>\n",
       "</div>"
      ],
      "text/plain": [
       "  CUSTOMER_NAME         PLANT_NAME ENGINE_ID     FILE_ID\n",
       "0        SPIFFY  SPIRITUAL-POLECAT  ENGINE_1  data_1.csv\n",
       "1        SPIFFY  SPIRITUAL-POLECAT  ENGINE_2  data_2.csv\n",
       "2        SPIFFY  SPIRITUAL-POLECAT  ENGINE_3  data_3.csv\n",
       "3    NONCHALANT         NIFTY-ROOK  ENGINE_1  data_4.csv\n",
       "4    NONCHALANT         NIFTY-ROOK  ENGINE_2  data_5.csv"
      ]
     },
     "execution_count": 4,
     "metadata": {},
     "output_type": "execute_result"
    }
   ],
   "source": [
    "engine.head()"
   ]
  },
  {
   "cell_type": "markdown",
   "id": "7b5c5ebb",
   "metadata": {},
   "source": [
    "# 2. Understanding the data"
   ]
  },
  {
   "cell_type": "markdown",
   "id": "69f212d1",
   "metadata": {},
   "source": [
    "So far we have loaded in three datasets `site`, `engine`, and a list of lists `data_from_engine`. Now lets look into the data types and basic statistics for each columns "
   ]
  },
  {
   "cell_type": "code",
   "execution_count": 5,
   "id": "ba22eb85",
   "metadata": {},
   "outputs": [
    {
     "name": "stdout",
     "output_type": "stream",
     "text": [
      "<class 'pandas.core.frame.DataFrame'>\n",
      "RangeIndex: 45 entries, 0 to 44\n",
      "Data columns (total 9 columns):\n",
      " #   Column           Non-Null Count  Dtype  \n",
      "---  ------           --------------  -----  \n",
      " 0   CUSTOMER_NAME    45 non-null     object \n",
      " 1   PLANT_NAME       45 non-null     object \n",
      " 2   LATITUDE         45 non-null     float64\n",
      " 3   LONGITUDE        45 non-null     float64\n",
      " 4   ELEVATION        45 non-null     float64\n",
      " 5   FUEL_N2_MOL_PCT  45 non-null     float64\n",
      " 6   FUEL_MW          45 non-null     float64\n",
      " 7   FUEL_LHV         45 non-null     float64\n",
      " 8   CO2_FUEL_RATIO   45 non-null     float64\n",
      "dtypes: float64(7), object(2)\n",
      "memory usage: 3.3+ KB\n"
     ]
    }
   ],
   "source": [
    "site.info()"
   ]
  },
  {
   "cell_type": "code",
   "execution_count": 6,
   "id": "041a9914",
   "metadata": {},
   "outputs": [
    {
     "data": {
      "text/html": [
       "<div>\n",
       "<style scoped>\n",
       "    .dataframe tbody tr th:only-of-type {\n",
       "        vertical-align: middle;\n",
       "    }\n",
       "\n",
       "    .dataframe tbody tr th {\n",
       "        vertical-align: top;\n",
       "    }\n",
       "\n",
       "    .dataframe thead th {\n",
       "        text-align: right;\n",
       "    }\n",
       "</style>\n",
       "<table border=\"1\" class=\"dataframe\">\n",
       "  <thead>\n",
       "    <tr style=\"text-align: right;\">\n",
       "      <th></th>\n",
       "      <th>LATITUDE</th>\n",
       "      <th>LONGITUDE</th>\n",
       "      <th>ELEVATION</th>\n",
       "      <th>FUEL_N2_MOL_PCT</th>\n",
       "      <th>FUEL_MW</th>\n",
       "      <th>FUEL_LHV</th>\n",
       "      <th>CO2_FUEL_RATIO</th>\n",
       "    </tr>\n",
       "  </thead>\n",
       "  <tbody>\n",
       "    <tr>\n",
       "      <th>count</th>\n",
       "      <td>45.000000</td>\n",
       "      <td>45.000000</td>\n",
       "      <td>45.000000</td>\n",
       "      <td>45.000000</td>\n",
       "      <td>45.000000</td>\n",
       "      <td>45.000000</td>\n",
       "      <td>45.000000</td>\n",
       "    </tr>\n",
       "    <tr>\n",
       "      <th>mean</th>\n",
       "      <td>17.243653</td>\n",
       "      <td>37.174801</td>\n",
       "      <td>623.445715</td>\n",
       "      <td>6.619633</td>\n",
       "      <td>16.832595</td>\n",
       "      <td>21507.259317</td>\n",
       "      <td>2.562138</td>\n",
       "    </tr>\n",
       "    <tr>\n",
       "      <th>std</th>\n",
       "      <td>38.429268</td>\n",
       "      <td>80.848357</td>\n",
       "      <td>774.576591</td>\n",
       "      <td>4.952430</td>\n",
       "      <td>0.592974</td>\n",
       "      <td>16.803805</td>\n",
       "      <td>0.135883</td>\n",
       "    </tr>\n",
       "    <tr>\n",
       "      <th>min</th>\n",
       "      <td>-68.632002</td>\n",
       "      <td>-124.258997</td>\n",
       "      <td>-29.000000</td>\n",
       "      <td>0.013945</td>\n",
       "      <td>16.041670</td>\n",
       "      <td>21479.831420</td>\n",
       "      <td>2.333600</td>\n",
       "    </tr>\n",
       "    <tr>\n",
       "      <th>25%</th>\n",
       "      <td>-12.144846</td>\n",
       "      <td>13.186017</td>\n",
       "      <td>112.000000</td>\n",
       "      <td>1.517543</td>\n",
       "      <td>16.221701</td>\n",
       "      <td>21494.438670</td>\n",
       "      <td>2.461189</td>\n",
       "    </tr>\n",
       "    <tr>\n",
       "      <th>50%</th>\n",
       "      <td>24.641433</td>\n",
       "      <td>43.578863</td>\n",
       "      <td>293.472839</td>\n",
       "      <td>6.603028</td>\n",
       "      <td>16.830607</td>\n",
       "      <td>21506.737470</td>\n",
       "      <td>2.562594</td>\n",
       "    </tr>\n",
       "    <tr>\n",
       "      <th>75%</th>\n",
       "      <td>52.399654</td>\n",
       "      <td>105.652455</td>\n",
       "      <td>881.143372</td>\n",
       "      <td>10.298848</td>\n",
       "      <td>17.273122</td>\n",
       "      <td>21524.757620</td>\n",
       "      <td>2.702128</td>\n",
       "    </tr>\n",
       "    <tr>\n",
       "      <th>max</th>\n",
       "      <td>61.912226</td>\n",
       "      <td>178.144855</td>\n",
       "      <td>4067.592529</td>\n",
       "      <td>14.948987</td>\n",
       "      <td>17.829902</td>\n",
       "      <td>21530.347570</td>\n",
       "      <td>2.743383</td>\n",
       "    </tr>\n",
       "  </tbody>\n",
       "</table>\n",
       "</div>"
      ],
      "text/plain": [
       "        LATITUDE   LONGITUDE    ELEVATION  FUEL_N2_MOL_PCT    FUEL_MW  \\\n",
       "count  45.000000   45.000000    45.000000        45.000000  45.000000   \n",
       "mean   17.243653   37.174801   623.445715         6.619633  16.832595   \n",
       "std    38.429268   80.848357   774.576591         4.952430   0.592974   \n",
       "min   -68.632002 -124.258997   -29.000000         0.013945  16.041670   \n",
       "25%   -12.144846   13.186017   112.000000         1.517543  16.221701   \n",
       "50%    24.641433   43.578863   293.472839         6.603028  16.830607   \n",
       "75%    52.399654  105.652455   881.143372        10.298848  17.273122   \n",
       "max    61.912226  178.144855  4067.592529        14.948987  17.829902   \n",
       "\n",
       "           FUEL_LHV  CO2_FUEL_RATIO  \n",
       "count     45.000000       45.000000  \n",
       "mean   21507.259317        2.562138  \n",
       "std       16.803805        0.135883  \n",
       "min    21479.831420        2.333600  \n",
       "25%    21494.438670        2.461189  \n",
       "50%    21506.737470        2.562594  \n",
       "75%    21524.757620        2.702128  \n",
       "max    21530.347570        2.743383  "
      ]
     },
     "execution_count": 6,
     "metadata": {},
     "output_type": "execute_result"
    }
   ],
   "source": [
    "site.describe()"
   ]
  },
  {
   "cell_type": "code",
   "execution_count": 7,
   "id": "0bded48f",
   "metadata": {},
   "outputs": [
    {
     "name": "stdout",
     "output_type": "stream",
     "text": [
      "<class 'pandas.core.frame.DataFrame'>\n",
      "RangeIndex: 213 entries, 0 to 212\n",
      "Data columns (total 4 columns):\n",
      " #   Column         Non-Null Count  Dtype \n",
      "---  ------         --------------  ----- \n",
      " 0   CUSTOMER_NAME  213 non-null    object\n",
      " 1   PLANT_NAME     213 non-null    object\n",
      " 2   ENGINE_ID      213 non-null    object\n",
      " 3   FILE_ID        213 non-null    object\n",
      "dtypes: object(4)\n",
      "memory usage: 6.8+ KB\n"
     ]
    }
   ],
   "source": [
    "engine.info()"
   ]
  },
  {
   "cell_type": "code",
   "execution_count": 8,
   "id": "5cef6595",
   "metadata": {},
   "outputs": [
    {
     "data": {
      "text/html": [
       "<div>\n",
       "<style scoped>\n",
       "    .dataframe tbody tr th:only-of-type {\n",
       "        vertical-align: middle;\n",
       "    }\n",
       "\n",
       "    .dataframe tbody tr th {\n",
       "        vertical-align: top;\n",
       "    }\n",
       "\n",
       "    .dataframe thead th {\n",
       "        text-align: right;\n",
       "    }\n",
       "</style>\n",
       "<table border=\"1\" class=\"dataframe\">\n",
       "  <thead>\n",
       "    <tr style=\"text-align: right;\">\n",
       "      <th></th>\n",
       "      <th>CUSTOMER_NAME</th>\n",
       "      <th>PLANT_NAME</th>\n",
       "      <th>ENGINE_ID</th>\n",
       "      <th>FILE_ID</th>\n",
       "    </tr>\n",
       "  </thead>\n",
       "  <tbody>\n",
       "    <tr>\n",
       "      <th>count</th>\n",
       "      <td>213</td>\n",
       "      <td>213</td>\n",
       "      <td>213</td>\n",
       "      <td>213</td>\n",
       "    </tr>\n",
       "    <tr>\n",
       "      <th>unique</th>\n",
       "      <td>15</td>\n",
       "      <td>45</td>\n",
       "      <td>8</td>\n",
       "      <td>213</td>\n",
       "    </tr>\n",
       "    <tr>\n",
       "      <th>top</th>\n",
       "      <td>BUSY</td>\n",
       "      <td>BEAUTIFUL-HIPPO</td>\n",
       "      <td>ENGINE_1</td>\n",
       "      <td>data_1.csv</td>\n",
       "    </tr>\n",
       "    <tr>\n",
       "      <th>freq</th>\n",
       "      <td>33</td>\n",
       "      <td>8</td>\n",
       "      <td>45</td>\n",
       "      <td>1</td>\n",
       "    </tr>\n",
       "  </tbody>\n",
       "</table>\n",
       "</div>"
      ],
      "text/plain": [
       "       CUSTOMER_NAME       PLANT_NAME ENGINE_ID     FILE_ID\n",
       "count            213              213       213         213\n",
       "unique            15               45         8         213\n",
       "top             BUSY  BEAUTIFUL-HIPPO  ENGINE_1  data_1.csv\n",
       "freq              33                8        45           1"
      ]
     },
     "execution_count": 8,
     "metadata": {},
     "output_type": "execute_result"
    }
   ],
   "source": [
    "engine.describe()"
   ]
  },
  {
   "cell_type": "code",
   "execution_count": 9,
   "id": "974d03fe",
   "metadata": {},
   "outputs": [
    {
     "name": "stdout",
     "output_type": "stream",
     "text": [
      "<class 'pandas.core.frame.DataFrame'>\n",
      "RangeIndex: 8761 entries, 0 to 8760\n",
      "Data columns (total 5 columns):\n",
      " #   Column      Non-Null Count  Dtype  \n",
      "---  ------      --------------  -----  \n",
      " 0   Unnamed: 0  8761 non-null   object \n",
      " 1   CMP_SPEED   8761 non-null   float64\n",
      " 2   POWER       7311 non-null   float64\n",
      " 3   FUEL_FLOW   7311 non-null   float64\n",
      " 4   CO2         7311 non-null   float64\n",
      "dtypes: float64(4), object(1)\n",
      "memory usage: 342.4+ KB\n"
     ]
    }
   ],
   "source": [
    "data_from_engine[0].info()"
   ]
  },
  {
   "cell_type": "code",
   "execution_count": 10,
   "id": "f0a473dc",
   "metadata": {},
   "outputs": [
    {
     "data": {
      "text/html": [
       "<div>\n",
       "<style scoped>\n",
       "    .dataframe tbody tr th:only-of-type {\n",
       "        vertical-align: middle;\n",
       "    }\n",
       "\n",
       "    .dataframe tbody tr th {\n",
       "        vertical-align: top;\n",
       "    }\n",
       "\n",
       "    .dataframe thead th {\n",
       "        text-align: right;\n",
       "    }\n",
       "</style>\n",
       "<table border=\"1\" class=\"dataframe\">\n",
       "  <thead>\n",
       "    <tr style=\"text-align: right;\">\n",
       "      <th></th>\n",
       "      <th>CMP_SPEED</th>\n",
       "      <th>POWER</th>\n",
       "      <th>FUEL_FLOW</th>\n",
       "      <th>CO2</th>\n",
       "    </tr>\n",
       "  </thead>\n",
       "  <tbody>\n",
       "    <tr>\n",
       "      <th>count</th>\n",
       "      <td>8761.000000</td>\n",
       "      <td>7311.000000</td>\n",
       "      <td>7311.000000</td>\n",
       "      <td>7311.000000</td>\n",
       "    </tr>\n",
       "    <tr>\n",
       "      <th>mean</th>\n",
       "      <td>7600.986111</td>\n",
       "      <td>14124.309406</td>\n",
       "      <td>1.794676</td>\n",
       "      <td>4.705287</td>\n",
       "    </tr>\n",
       "    <tr>\n",
       "      <th>std</th>\n",
       "      <td>3538.460512</td>\n",
       "      <td>2810.864004</td>\n",
       "      <td>0.203256</td>\n",
       "      <td>0.532898</td>\n",
       "    </tr>\n",
       "    <tr>\n",
       "      <th>min</th>\n",
       "      <td>0.000000</td>\n",
       "      <td>3412.214309</td>\n",
       "      <td>0.905065</td>\n",
       "      <td>2.372902</td>\n",
       "    </tr>\n",
       "    <tr>\n",
       "      <th>25%</th>\n",
       "      <td>7882.511739</td>\n",
       "      <td>13452.131312</td>\n",
       "      <td>1.761675</td>\n",
       "      <td>4.618766</td>\n",
       "    </tr>\n",
       "    <tr>\n",
       "      <th>50%</th>\n",
       "      <td>9341.121494</td>\n",
       "      <td>15358.571449</td>\n",
       "      <td>1.883137</td>\n",
       "      <td>4.937216</td>\n",
       "    </tr>\n",
       "    <tr>\n",
       "      <th>75%</th>\n",
       "      <td>9805.304890</td>\n",
       "      <td>16044.227377</td>\n",
       "      <td>1.925456</td>\n",
       "      <td>5.048167</td>\n",
       "    </tr>\n",
       "    <tr>\n",
       "      <th>max</th>\n",
       "      <td>10000.000000</td>\n",
       "      <td>16579.667303</td>\n",
       "      <td>1.967059</td>\n",
       "      <td>5.157241</td>\n",
       "    </tr>\n",
       "  </tbody>\n",
       "</table>\n",
       "</div>"
      ],
      "text/plain": [
       "          CMP_SPEED         POWER    FUEL_FLOW          CO2\n",
       "count   8761.000000   7311.000000  7311.000000  7311.000000\n",
       "mean    7600.986111  14124.309406     1.794676     4.705287\n",
       "std     3538.460512   2810.864004     0.203256     0.532898\n",
       "min        0.000000   3412.214309     0.905065     2.372902\n",
       "25%     7882.511739  13452.131312     1.761675     4.618766\n",
       "50%     9341.121494  15358.571449     1.883137     4.937216\n",
       "75%     9805.304890  16044.227377     1.925456     5.048167\n",
       "max    10000.000000  16579.667303     1.967059     5.157241"
      ]
     },
     "execution_count": 10,
     "metadata": {},
     "output_type": "execute_result"
    }
   ],
   "source": [
    "data_from_engine[0].describe()"
   ]
  },
  {
   "cell_type": "markdown",
   "id": "1cfab230",
   "metadata": {},
   "source": [
    "# 3. Organizing and cleaning our data"
   ]
  },
  {
   "cell_type": "markdown",
   "id": "6d608683",
   "metadata": {},
   "source": [
    "To better analyze our data, lets combine our different datasets into one dataset."
   ]
  },
  {
   "cell_type": "markdown",
   "id": "e3cc2d80",
   "metadata": {},
   "source": [
    "First we need to clean our data by checking for rows with null values and then removing them."
   ]
  },
  {
   "cell_type": "code",
   "execution_count": 11,
   "id": "1802c3af",
   "metadata": {},
   "outputs": [],
   "source": [
    "for i in range(len(data_from_engine)):\n",
    "    data_from_engine[i] = data_from_engine[i].dropna(axis=0)"
   ]
  },
  {
   "cell_type": "markdown",
   "id": "d6a894a7",
   "metadata": {},
   "source": [
    "To better analyze our data we will take the mean of each column located within each csv file of the `FILE_ID` column and add that mean as a new column to our `engine` dataframe. Many values contained within each csv file seem to be relatively close to each other so extracting the mean for each of them should prove to be adequate for our analysis"
   ]
  },
  {
   "cell_type": "code",
   "execution_count": 12,
   "id": "a712dbce",
   "metadata": {},
   "outputs": [],
   "source": [
    "#Creating column of mean values for CMP Speed\n",
    "CMP_Speed_Mean_list = []\n",
    "for i in range(len(data_from_engine)):\n",
    "    cmp_speed_mean = data_from_engine[i]['CMP_SPEED'].mean()\n",
    "    CMP_Speed_Mean_list.append(cmp_speed_mean)\n",
    "engine['CMP_SPEED_MEAN'] = CMP_Speed_Mean_list\n",
    "\n",
    "#Creating column of mean values for power\n",
    "Power_Mean_list = []\n",
    "for i in range(len(data_from_engine)):\n",
    "    power_mean = data_from_engine[i]['POWER'].mean()\n",
    "    Power_Mean_list.append(power_mean)\n",
    "engine['POWER_MEAN'] = Power_Mean_list\n",
    "\n",
    "#Creating column of mean values for fuel flow\n",
    "Fuelflow_Mean_list = []\n",
    "for i in range(len(data_from_engine)):\n",
    "    fuelflow_mean = data_from_engine[i]['FUEL_FLOW'].mean()\n",
    "    Fuelflow_Mean_list.append(fuelflow_mean)\n",
    "engine['FUEL_FLOW_MEAN'] = Fuelflow_Mean_list\n",
    "\n",
    "#Creating column of mean values for CO2\n",
    "CO2_Mean_list = []\n",
    "for i in range(len(data_from_engine)):\n",
    "    co2_mean = data_from_engine[i]['CO2'].mean()\n",
    "    CO2_Mean_list.append(co2_mean)\n",
    "engine['CO2_MEAN'] = CO2_Mean_list"
   ]
  },
  {
   "cell_type": "code",
   "execution_count": 13,
   "id": "db4fc9ae",
   "metadata": {},
   "outputs": [
    {
     "data": {
      "text/html": [
       "<div>\n",
       "<style scoped>\n",
       "    .dataframe tbody tr th:only-of-type {\n",
       "        vertical-align: middle;\n",
       "    }\n",
       "\n",
       "    .dataframe tbody tr th {\n",
       "        vertical-align: top;\n",
       "    }\n",
       "\n",
       "    .dataframe thead th {\n",
       "        text-align: right;\n",
       "    }\n",
       "</style>\n",
       "<table border=\"1\" class=\"dataframe\">\n",
       "  <thead>\n",
       "    <tr style=\"text-align: right;\">\n",
       "      <th></th>\n",
       "      <th>CUSTOMER_NAME</th>\n",
       "      <th>PLANT_NAME</th>\n",
       "      <th>ENGINE_ID</th>\n",
       "      <th>FILE_ID</th>\n",
       "      <th>CMP_SPEED_MEAN</th>\n",
       "      <th>POWER_MEAN</th>\n",
       "      <th>FUEL_FLOW_MEAN</th>\n",
       "      <th>CO2_MEAN</th>\n",
       "    </tr>\n",
       "  </thead>\n",
       "  <tbody>\n",
       "    <tr>\n",
       "      <th>0</th>\n",
       "      <td>SPIFFY</td>\n",
       "      <td>SPIRITUAL-POLECAT</td>\n",
       "      <td>ENGINE_1</td>\n",
       "      <td>data_1.csv</td>\n",
       "      <td>9108.499428</td>\n",
       "      <td>14124.309406</td>\n",
       "      <td>1.794676</td>\n",
       "      <td>4.705287</td>\n",
       "    </tr>\n",
       "    <tr>\n",
       "      <th>1</th>\n",
       "      <td>SPIFFY</td>\n",
       "      <td>SPIRITUAL-POLECAT</td>\n",
       "      <td>ENGINE_2</td>\n",
       "      <td>data_2.csv</td>\n",
       "      <td>8178.963655</td>\n",
       "      <td>11786.238341</td>\n",
       "      <td>1.681671</td>\n",
       "      <td>4.409011</td>\n",
       "    </tr>\n",
       "    <tr>\n",
       "      <th>2</th>\n",
       "      <td>SPIFFY</td>\n",
       "      <td>SPIRITUAL-POLECAT</td>\n",
       "      <td>ENGINE_3</td>\n",
       "      <td>data_3.csv</td>\n",
       "      <td>9245.643595</td>\n",
       "      <td>14698.835920</td>\n",
       "      <td>1.867654</td>\n",
       "      <td>4.896623</td>\n",
       "    </tr>\n",
       "    <tr>\n",
       "      <th>3</th>\n",
       "      <td>NONCHALANT</td>\n",
       "      <td>NIFTY-ROOK</td>\n",
       "      <td>ENGINE_1</td>\n",
       "      <td>data_4.csv</td>\n",
       "      <td>9553.472418</td>\n",
       "      <td>14859.255745</td>\n",
       "      <td>1.938304</td>\n",
       "      <td>5.262242</td>\n",
       "    </tr>\n",
       "    <tr>\n",
       "      <th>4</th>\n",
       "      <td>NONCHALANT</td>\n",
       "      <td>NIFTY-ROOK</td>\n",
       "      <td>ENGINE_2</td>\n",
       "      <td>data_5.csv</td>\n",
       "      <td>8161.007195</td>\n",
       "      <td>11324.559414</td>\n",
       "      <td>1.652687</td>\n",
       "      <td>4.486829</td>\n",
       "    </tr>\n",
       "  </tbody>\n",
       "</table>\n",
       "</div>"
      ],
      "text/plain": [
       "  CUSTOMER_NAME         PLANT_NAME ENGINE_ID     FILE_ID  CMP_SPEED_MEAN  \\\n",
       "0        SPIFFY  SPIRITUAL-POLECAT  ENGINE_1  data_1.csv     9108.499428   \n",
       "1        SPIFFY  SPIRITUAL-POLECAT  ENGINE_2  data_2.csv     8178.963655   \n",
       "2        SPIFFY  SPIRITUAL-POLECAT  ENGINE_3  data_3.csv     9245.643595   \n",
       "3    NONCHALANT         NIFTY-ROOK  ENGINE_1  data_4.csv     9553.472418   \n",
       "4    NONCHALANT         NIFTY-ROOK  ENGINE_2  data_5.csv     8161.007195   \n",
       "\n",
       "     POWER_MEAN  FUEL_FLOW_MEAN  CO2_MEAN  \n",
       "0  14124.309406        1.794676  4.705287  \n",
       "1  11786.238341        1.681671  4.409011  \n",
       "2  14698.835920        1.867654  4.896623  \n",
       "3  14859.255745        1.938304  5.262242  \n",
       "4  11324.559414        1.652687  4.486829  "
      ]
     },
     "execution_count": 13,
     "metadata": {},
     "output_type": "execute_result"
    }
   ],
   "source": [
    "engine.head()"
   ]
  },
  {
   "cell_type": "markdown",
   "id": "cdab8930",
   "metadata": {},
   "source": [
    "Next we will merge our `engine` dataframe with our `site` dataframe to create one final dataframe"
   ]
  },
  {
   "cell_type": "code",
   "execution_count": 14,
   "id": "4459a932",
   "metadata": {},
   "outputs": [
    {
     "data": {
      "text/html": [
       "<div>\n",
       "<style scoped>\n",
       "    .dataframe tbody tr th:only-of-type {\n",
       "        vertical-align: middle;\n",
       "    }\n",
       "\n",
       "    .dataframe tbody tr th {\n",
       "        vertical-align: top;\n",
       "    }\n",
       "\n",
       "    .dataframe thead th {\n",
       "        text-align: right;\n",
       "    }\n",
       "</style>\n",
       "<table border=\"1\" class=\"dataframe\">\n",
       "  <thead>\n",
       "    <tr style=\"text-align: right;\">\n",
       "      <th></th>\n",
       "      <th>CUSTOMER_NAME</th>\n",
       "      <th>PLANT_NAME</th>\n",
       "      <th>ENGINE_ID</th>\n",
       "      <th>FILE_ID</th>\n",
       "      <th>CMP_SPEED_MEAN</th>\n",
       "      <th>POWER_MEAN</th>\n",
       "      <th>FUEL_FLOW_MEAN</th>\n",
       "      <th>CO2_MEAN</th>\n",
       "      <th>LATITUDE</th>\n",
       "      <th>LONGITUDE</th>\n",
       "      <th>ELEVATION</th>\n",
       "      <th>FUEL_N2_MOL_PCT</th>\n",
       "      <th>FUEL_MW</th>\n",
       "      <th>FUEL_LHV</th>\n",
       "      <th>CO2_FUEL_RATIO</th>\n",
       "    </tr>\n",
       "  </thead>\n",
       "  <tbody>\n",
       "    <tr>\n",
       "      <th>0</th>\n",
       "      <td>SPIFFY</td>\n",
       "      <td>SPIRITUAL-POLECAT</td>\n",
       "      <td>ENGINE_1</td>\n",
       "      <td>data_1.csv</td>\n",
       "      <td>9108.499428</td>\n",
       "      <td>14124.309406</td>\n",
       "      <td>1.794676</td>\n",
       "      <td>4.705287</td>\n",
       "      <td>61.170356</td>\n",
       "      <td>42.874767</td>\n",
       "      <td>112.0</td>\n",
       "      <td>4.445063</td>\n",
       "      <td>16.572225</td>\n",
       "      <td>21514.22237</td>\n",
       "      <td>2.621803</td>\n",
       "    </tr>\n",
       "    <tr>\n",
       "      <th>1</th>\n",
       "      <td>SPIFFY</td>\n",
       "      <td>SPIRITUAL-POLECAT</td>\n",
       "      <td>ENGINE_2</td>\n",
       "      <td>data_2.csv</td>\n",
       "      <td>8178.963655</td>\n",
       "      <td>11786.238341</td>\n",
       "      <td>1.681671</td>\n",
       "      <td>4.409011</td>\n",
       "      <td>61.170356</td>\n",
       "      <td>42.874767</td>\n",
       "      <td>112.0</td>\n",
       "      <td>4.445063</td>\n",
       "      <td>16.572225</td>\n",
       "      <td>21514.22237</td>\n",
       "      <td>2.621803</td>\n",
       "    </tr>\n",
       "    <tr>\n",
       "      <th>2</th>\n",
       "      <td>SPIFFY</td>\n",
       "      <td>SPIRITUAL-POLECAT</td>\n",
       "      <td>ENGINE_3</td>\n",
       "      <td>data_3.csv</td>\n",
       "      <td>9245.643595</td>\n",
       "      <td>14698.835920</td>\n",
       "      <td>1.867654</td>\n",
       "      <td>4.896623</td>\n",
       "      <td>61.170356</td>\n",
       "      <td>42.874767</td>\n",
       "      <td>112.0</td>\n",
       "      <td>4.445063</td>\n",
       "      <td>16.572225</td>\n",
       "      <td>21514.22237</td>\n",
       "      <td>2.621803</td>\n",
       "    </tr>\n",
       "    <tr>\n",
       "      <th>3</th>\n",
       "      <td>NONCHALANT</td>\n",
       "      <td>NIFTY-ROOK</td>\n",
       "      <td>ENGINE_1</td>\n",
       "      <td>data_4.csv</td>\n",
       "      <td>9553.472418</td>\n",
       "      <td>14859.255745</td>\n",
       "      <td>1.938304</td>\n",
       "      <td>5.262242</td>\n",
       "      <td>37.554516</td>\n",
       "      <td>49.908217</td>\n",
       "      <td>-29.0</td>\n",
       "      <td>1.053145</td>\n",
       "      <td>16.166097</td>\n",
       "      <td>21526.47083</td>\n",
       "      <td>2.714870</td>\n",
       "    </tr>\n",
       "    <tr>\n",
       "      <th>4</th>\n",
       "      <td>NONCHALANT</td>\n",
       "      <td>NIFTY-ROOK</td>\n",
       "      <td>ENGINE_2</td>\n",
       "      <td>data_5.csv</td>\n",
       "      <td>8161.007195</td>\n",
       "      <td>11324.559414</td>\n",
       "      <td>1.652687</td>\n",
       "      <td>4.486829</td>\n",
       "      <td>37.554516</td>\n",
       "      <td>49.908217</td>\n",
       "      <td>-29.0</td>\n",
       "      <td>1.053145</td>\n",
       "      <td>16.166097</td>\n",
       "      <td>21526.47083</td>\n",
       "      <td>2.714870</td>\n",
       "    </tr>\n",
       "  </tbody>\n",
       "</table>\n",
       "</div>"
      ],
      "text/plain": [
       "  CUSTOMER_NAME         PLANT_NAME ENGINE_ID     FILE_ID  CMP_SPEED_MEAN  \\\n",
       "0        SPIFFY  SPIRITUAL-POLECAT  ENGINE_1  data_1.csv     9108.499428   \n",
       "1        SPIFFY  SPIRITUAL-POLECAT  ENGINE_2  data_2.csv     8178.963655   \n",
       "2        SPIFFY  SPIRITUAL-POLECAT  ENGINE_3  data_3.csv     9245.643595   \n",
       "3    NONCHALANT         NIFTY-ROOK  ENGINE_1  data_4.csv     9553.472418   \n",
       "4    NONCHALANT         NIFTY-ROOK  ENGINE_2  data_5.csv     8161.007195   \n",
       "\n",
       "     POWER_MEAN  FUEL_FLOW_MEAN  CO2_MEAN   LATITUDE  LONGITUDE  ELEVATION  \\\n",
       "0  14124.309406        1.794676  4.705287  61.170356  42.874767      112.0   \n",
       "1  11786.238341        1.681671  4.409011  61.170356  42.874767      112.0   \n",
       "2  14698.835920        1.867654  4.896623  61.170356  42.874767      112.0   \n",
       "3  14859.255745        1.938304  5.262242  37.554516  49.908217      -29.0   \n",
       "4  11324.559414        1.652687  4.486829  37.554516  49.908217      -29.0   \n",
       "\n",
       "   FUEL_N2_MOL_PCT    FUEL_MW     FUEL_LHV  CO2_FUEL_RATIO  \n",
       "0         4.445063  16.572225  21514.22237        2.621803  \n",
       "1         4.445063  16.572225  21514.22237        2.621803  \n",
       "2         4.445063  16.572225  21514.22237        2.621803  \n",
       "3         1.053145  16.166097  21526.47083        2.714870  \n",
       "4         1.053145  16.166097  21526.47083        2.714870  "
      ]
     },
     "execution_count": 14,
     "metadata": {},
     "output_type": "execute_result"
    }
   ],
   "source": [
    "engine_final = engine.merge(site, on=['CUSTOMER_NAME', 'PLANT_NAME'])\n",
    "engine_final.head()"
   ]
  },
  {
   "cell_type": "markdown",
   "id": "b0c35b7d",
   "metadata": {},
   "source": [
    "Finally, one metric that will be essential in our analysis is the thermal efficiency of gas turbine engines. We can find this through the equation shown below. Then we can add a `THRM_EFF` column to our final dataset. "
   ]
  },
  {
   "attachments": {
    "thrm_eff-ea8ca3013d787187516e3c0a9eae2777.png": {
     "image/png": "[encoded data removed]"
    }
   },
   "cell_type": "markdown",
   "id": "fabc9c04",
   "metadata": {},
   "source": [
    "![thrm_eff-ea8ca3013d787187516e3c0a9eae2777.png](attachment:thrm_eff-ea8ca3013d787187516e3c0a9eae2777.png)"
   ]
  },
  {
   "cell_type": "code",
   "execution_count": 15,
   "id": "d68551bd",
   "metadata": {},
   "outputs": [
    {
     "data": {
      "text/html": [
       "<div>\n",
       "<style scoped>\n",
       "    .dataframe tbody tr th:only-of-type {\n",
       "        vertical-align: middle;\n",
       "    }\n",
       "\n",
       "    .dataframe tbody tr th {\n",
       "        vertical-align: top;\n",
       "    }\n",
       "\n",
       "    .dataframe thead th {\n",
       "        text-align: right;\n",
       "    }\n",
       "</style>\n",
       "<table border=\"1\" class=\"dataframe\">\n",
       "  <thead>\n",
       "    <tr style=\"text-align: right;\">\n",
       "      <th></th>\n",
       "      <th>CUSTOMER_NAME</th>\n",
       "      <th>PLANT_NAME</th>\n",
       "      <th>ENGINE_ID</th>\n",
       "      <th>FILE_ID</th>\n",
       "      <th>CMP_SPEED_MEAN</th>\n",
       "      <th>POWER_MEAN</th>\n",
       "      <th>FUEL_FLOW_MEAN</th>\n",
       "      <th>CO2_MEAN</th>\n",
       "      <th>LATITUDE</th>\n",
       "      <th>LONGITUDE</th>\n",
       "      <th>ELEVATION</th>\n",
       "      <th>FUEL_N2_MOL_PCT</th>\n",
       "      <th>FUEL_MW</th>\n",
       "      <th>FUEL_LHV</th>\n",
       "      <th>CO2_FUEL_RATIO</th>\n",
       "      <th>THRM_EFF</th>\n",
       "    </tr>\n",
       "  </thead>\n",
       "  <tbody>\n",
       "    <tr>\n",
       "      <th>0</th>\n",
       "      <td>SPIFFY</td>\n",
       "      <td>SPIRITUAL-POLECAT</td>\n",
       "      <td>ENGINE_1</td>\n",
       "      <td>data_1.csv</td>\n",
       "      <td>9108.499428</td>\n",
       "      <td>14124.309406</td>\n",
       "      <td>1.794676</td>\n",
       "      <td>4.705287</td>\n",
       "      <td>61.170356</td>\n",
       "      <td>42.874767</td>\n",
       "      <td>112.0</td>\n",
       "      <td>4.445063</td>\n",
       "      <td>16.572225</td>\n",
       "      <td>21514.22237</td>\n",
       "      <td>2.621803</td>\n",
       "      <td>36.581005</td>\n",
       "    </tr>\n",
       "    <tr>\n",
       "      <th>1</th>\n",
       "      <td>SPIFFY</td>\n",
       "      <td>SPIRITUAL-POLECAT</td>\n",
       "      <td>ENGINE_2</td>\n",
       "      <td>data_2.csv</td>\n",
       "      <td>8178.963655</td>\n",
       "      <td>11786.238341</td>\n",
       "      <td>1.681671</td>\n",
       "      <td>4.409011</td>\n",
       "      <td>61.170356</td>\n",
       "      <td>42.874767</td>\n",
       "      <td>112.0</td>\n",
       "      <td>4.445063</td>\n",
       "      <td>16.572225</td>\n",
       "      <td>21514.22237</td>\n",
       "      <td>2.621803</td>\n",
       "      <td>32.576805</td>\n",
       "    </tr>\n",
       "    <tr>\n",
       "      <th>2</th>\n",
       "      <td>SPIFFY</td>\n",
       "      <td>SPIRITUAL-POLECAT</td>\n",
       "      <td>ENGINE_3</td>\n",
       "      <td>data_3.csv</td>\n",
       "      <td>9245.643595</td>\n",
       "      <td>14698.835920</td>\n",
       "      <td>1.867654</td>\n",
       "      <td>4.896623</td>\n",
       "      <td>61.170356</td>\n",
       "      <td>42.874767</td>\n",
       "      <td>112.0</td>\n",
       "      <td>4.445063</td>\n",
       "      <td>16.572225</td>\n",
       "      <td>21514.22237</td>\n",
       "      <td>2.621803</td>\n",
       "      <td>36.581437</td>\n",
       "    </tr>\n",
       "    <tr>\n",
       "      <th>3</th>\n",
       "      <td>NONCHALANT</td>\n",
       "      <td>NIFTY-ROOK</td>\n",
       "      <td>ENGINE_1</td>\n",
       "      <td>data_4.csv</td>\n",
       "      <td>9553.472418</td>\n",
       "      <td>14859.255745</td>\n",
       "      <td>1.938304</td>\n",
       "      <td>5.262242</td>\n",
       "      <td>37.554516</td>\n",
       "      <td>49.908217</td>\n",
       "      <td>-29.0</td>\n",
       "      <td>1.053145</td>\n",
       "      <td>16.166097</td>\n",
       "      <td>21526.47083</td>\n",
       "      <td>2.714870</td>\n",
       "      <td>35.612497</td>\n",
       "    </tr>\n",
       "    <tr>\n",
       "      <th>4</th>\n",
       "      <td>NONCHALANT</td>\n",
       "      <td>NIFTY-ROOK</td>\n",
       "      <td>ENGINE_2</td>\n",
       "      <td>data_5.csv</td>\n",
       "      <td>8161.007195</td>\n",
       "      <td>11324.559414</td>\n",
       "      <td>1.652687</td>\n",
       "      <td>4.486829</td>\n",
       "      <td>37.554516</td>\n",
       "      <td>49.908217</td>\n",
       "      <td>-29.0</td>\n",
       "      <td>1.053145</td>\n",
       "      <td>16.166097</td>\n",
       "      <td>21526.47083</td>\n",
       "      <td>2.714870</td>\n",
       "      <td>31.831562</td>\n",
       "    </tr>\n",
       "  </tbody>\n",
       "</table>\n",
       "</div>"
      ],
      "text/plain": [
       "  CUSTOMER_NAME         PLANT_NAME ENGINE_ID     FILE_ID  CMP_SPEED_MEAN  \\\n",
       "0        SPIFFY  SPIRITUAL-POLECAT  ENGINE_1  data_1.csv     9108.499428   \n",
       "1        SPIFFY  SPIRITUAL-POLECAT  ENGINE_2  data_2.csv     8178.963655   \n",
       "2        SPIFFY  SPIRITUAL-POLECAT  ENGINE_3  data_3.csv     9245.643595   \n",
       "3    NONCHALANT         NIFTY-ROOK  ENGINE_1  data_4.csv     9553.472418   \n",
       "4    NONCHALANT         NIFTY-ROOK  ENGINE_2  data_5.csv     8161.007195   \n",
       "\n",
       "     POWER_MEAN  FUEL_FLOW_MEAN  CO2_MEAN   LATITUDE  LONGITUDE  ELEVATION  \\\n",
       "0  14124.309406        1.794676  4.705287  61.170356  42.874767      112.0   \n",
       "1  11786.238341        1.681671  4.409011  61.170356  42.874767      112.0   \n",
       "2  14698.835920        1.867654  4.896623  61.170356  42.874767      112.0   \n",
       "3  14859.255745        1.938304  5.262242  37.554516  49.908217      -29.0   \n",
       "4  11324.559414        1.652687  4.486829  37.554516  49.908217      -29.0   \n",
       "\n",
       "   FUEL_N2_MOL_PCT    FUEL_MW     FUEL_LHV  CO2_FUEL_RATIO   THRM_EFF  \n",
       "0         4.445063  16.572225  21514.22237        2.621803  36.581005  \n",
       "1         4.445063  16.572225  21514.22237        2.621803  32.576805  \n",
       "2         4.445063  16.572225  21514.22237        2.621803  36.581437  \n",
       "3         1.053145  16.166097  21526.47083        2.714870  35.612497  \n",
       "4         1.053145  16.166097  21526.47083        2.714870  31.831562  "
      ]
     },
     "execution_count": 15,
     "metadata": {},
     "output_type": "execute_result"
    }
   ],
   "source": [
    "engine_final['THRM_EFF'] = (Power_Mean_list/(Fuelflow_Mean_list * engine_final['FUEL_LHV']))*100\n",
    "engine_final.head()"
   ]
  },
  {
   "cell_type": "markdown",
   "id": "40385379",
   "metadata": {},
   "source": [
    "Now that we have finished organizing and cleaning our data, we can begin our analysis"
   ]
  },
  {
   "cell_type": "markdown",
   "id": "55bbcc8a",
   "metadata": {},
   "source": [
    "# 4. Analyzing and Visualizing our Data"
   ]
  },
  {
   "cell_type": "markdown",
   "id": "45248a4f",
   "metadata": {},
   "source": [
    "## Finding Correlations"
   ]
  },
  {
   "cell_type": "markdown",
   "id": "97ba15e3",
   "metadata": {},
   "source": [
    "First lets find out if there are any noteworthy correlations in our data\n"
   ]
  },
  {
   "cell_type": "code",
   "execution_count": 16,
   "id": "cea52b9f",
   "metadata": {},
   "outputs": [],
   "source": [
    "engine_final_num = engine_final[['CMP_SPEED_MEAN', 'POWER_MEAN', 'FUEL_FLOW_MEAN', 'CO2_MEAN', 'LATITUDE', 'LONGITUDE', \n",
    "                                 'ELEVATION', 'FUEL_N2_MOL_PCT', 'FUEL_MW', 'FUEL_LHV', 'CO2_FUEL_RATIO', 'THRM_EFF']]"
   ]
  },
  {
   "cell_type": "code",
   "execution_count": 17,
   "id": "2a6acec0",
   "metadata": {},
   "outputs": [
    {
     "data": {
      "text/html": [
       "<div>\n",
       "<style scoped>\n",
       "    .dataframe tbody tr th:only-of-type {\n",
       "        vertical-align: middle;\n",
       "    }\n",
       "\n",
       "    .dataframe tbody tr th {\n",
       "        vertical-align: top;\n",
       "    }\n",
       "\n",
       "    .dataframe thead th {\n",
       "        text-align: right;\n",
       "    }\n",
       "</style>\n",
       "<table border=\"1\" class=\"dataframe\">\n",
       "  <thead>\n",
       "    <tr style=\"text-align: right;\">\n",
       "      <th></th>\n",
       "      <th>CMP_SPEED_MEAN</th>\n",
       "      <th>POWER_MEAN</th>\n",
       "      <th>FUEL_FLOW_MEAN</th>\n",
       "      <th>CO2_MEAN</th>\n",
       "      <th>LATITUDE</th>\n",
       "      <th>LONGITUDE</th>\n",
       "      <th>ELEVATION</th>\n",
       "      <th>FUEL_N2_MOL_PCT</th>\n",
       "      <th>FUEL_MW</th>\n",
       "      <th>FUEL_LHV</th>\n",
       "      <th>CO2_FUEL_RATIO</th>\n",
       "      <th>THRM_EFF</th>\n",
       "    </tr>\n",
       "  </thead>\n",
       "  <tbody>\n",
       "    <tr>\n",
       "      <th>CMP_SPEED_MEAN</th>\n",
       "      <td>1.000000</td>\n",
       "      <td>0.876262</td>\n",
       "      <td>0.715926</td>\n",
       "      <td>0.688445</td>\n",
       "      <td>0.000879</td>\n",
       "      <td>0.068601</td>\n",
       "      <td>0.010836</td>\n",
       "      <td>-0.017126</td>\n",
       "      <td>-0.017126</td>\n",
       "      <td>0.019025</td>\n",
       "      <td>0.017126</td>\n",
       "      <td>0.922894</td>\n",
       "    </tr>\n",
       "    <tr>\n",
       "      <th>POWER_MEAN</th>\n",
       "      <td>0.876262</td>\n",
       "      <td>1.000000</td>\n",
       "      <td>0.939829</td>\n",
       "      <td>0.856205</td>\n",
       "      <td>0.203047</td>\n",
       "      <td>0.143626</td>\n",
       "      <td>-0.436425</td>\n",
       "      <td>0.091262</td>\n",
       "      <td>0.091262</td>\n",
       "      <td>-0.088322</td>\n",
       "      <td>-0.091262</td>\n",
       "      <td>0.839822</td>\n",
       "    </tr>\n",
       "    <tr>\n",
       "      <th>FUEL_FLOW_MEAN</th>\n",
       "      <td>0.715926</td>\n",
       "      <td>0.939829</td>\n",
       "      <td>1.000000</td>\n",
       "      <td>0.889694</td>\n",
       "      <td>0.213187</td>\n",
       "      <td>0.205546</td>\n",
       "      <td>-0.679715</td>\n",
       "      <td>0.147548</td>\n",
       "      <td>0.147548</td>\n",
       "      <td>-0.141359</td>\n",
       "      <td>-0.147548</td>\n",
       "      <td>0.612165</td>\n",
       "    </tr>\n",
       "    <tr>\n",
       "      <th>CO2_MEAN</th>\n",
       "      <td>0.688445</td>\n",
       "      <td>0.856205</td>\n",
       "      <td>0.889694</td>\n",
       "      <td>1.000000</td>\n",
       "      <td>0.125139</td>\n",
       "      <td>0.109924</td>\n",
       "      <td>-0.556655</td>\n",
       "      <td>-0.318073</td>\n",
       "      <td>-0.318073</td>\n",
       "      <td>0.323631</td>\n",
       "      <td>0.318073</td>\n",
       "      <td>0.586325</td>\n",
       "    </tr>\n",
       "    <tr>\n",
       "      <th>LATITUDE</th>\n",
       "      <td>0.000879</td>\n",
       "      <td>0.203047</td>\n",
       "      <td>0.213187</td>\n",
       "      <td>0.125139</td>\n",
       "      <td>1.000000</td>\n",
       "      <td>-0.243928</td>\n",
       "      <td>-0.267988</td>\n",
       "      <td>0.175874</td>\n",
       "      <td>0.175874</td>\n",
       "      <td>-0.182999</td>\n",
       "      <td>-0.175874</td>\n",
       "      <td>0.110034</td>\n",
       "    </tr>\n",
       "    <tr>\n",
       "      <th>LONGITUDE</th>\n",
       "      <td>0.068601</td>\n",
       "      <td>0.143626</td>\n",
       "      <td>0.205546</td>\n",
       "      <td>0.109924</td>\n",
       "      <td>-0.243928</td>\n",
       "      <td>1.000000</td>\n",
       "      <td>-0.225202</td>\n",
       "      <td>0.187941</td>\n",
       "      <td>0.187941</td>\n",
       "      <td>-0.180183</td>\n",
       "      <td>-0.187941</td>\n",
       "      <td>0.029070</td>\n",
       "    </tr>\n",
       "    <tr>\n",
       "      <th>ELEVATION</th>\n",
       "      <td>0.010836</td>\n",
       "      <td>-0.436425</td>\n",
       "      <td>-0.679715</td>\n",
       "      <td>-0.556655</td>\n",
       "      <td>-0.267988</td>\n",
       "      <td>-0.225202</td>\n",
       "      <td>1.000000</td>\n",
       "      <td>-0.217650</td>\n",
       "      <td>-0.217650</td>\n",
       "      <td>0.211021</td>\n",
       "      <td>0.217650</td>\n",
       "      <td>0.065446</td>\n",
       "    </tr>\n",
       "    <tr>\n",
       "      <th>FUEL_N2_MOL_PCT</th>\n",
       "      <td>-0.017126</td>\n",
       "      <td>0.091262</td>\n",
       "      <td>0.147548</td>\n",
       "      <td>-0.318073</td>\n",
       "      <td>0.175874</td>\n",
       "      <td>0.187941</td>\n",
       "      <td>-0.217650</td>\n",
       "      <td>1.000000</td>\n",
       "      <td>1.000000</td>\n",
       "      <td>-0.999600</td>\n",
       "      <td>-1.000000</td>\n",
       "      <td>-0.009448</td>\n",
       "    </tr>\n",
       "    <tr>\n",
       "      <th>FUEL_MW</th>\n",
       "      <td>-0.017126</td>\n",
       "      <td>0.091262</td>\n",
       "      <td>0.147548</td>\n",
       "      <td>-0.318073</td>\n",
       "      <td>0.175874</td>\n",
       "      <td>0.187941</td>\n",
       "      <td>-0.217650</td>\n",
       "      <td>1.000000</td>\n",
       "      <td>1.000000</td>\n",
       "      <td>-0.999600</td>\n",
       "      <td>-1.000000</td>\n",
       "      <td>-0.009448</td>\n",
       "    </tr>\n",
       "    <tr>\n",
       "      <th>FUEL_LHV</th>\n",
       "      <td>0.019025</td>\n",
       "      <td>-0.088322</td>\n",
       "      <td>-0.141359</td>\n",
       "      <td>0.323631</td>\n",
       "      <td>-0.182999</td>\n",
       "      <td>-0.180183</td>\n",
       "      <td>0.211021</td>\n",
       "      <td>-0.999600</td>\n",
       "      <td>-0.999600</td>\n",
       "      <td>1.000000</td>\n",
       "      <td>0.999600</td>\n",
       "      <td>0.006921</td>\n",
       "    </tr>\n",
       "    <tr>\n",
       "      <th>CO2_FUEL_RATIO</th>\n",
       "      <td>0.017126</td>\n",
       "      <td>-0.091262</td>\n",
       "      <td>-0.147548</td>\n",
       "      <td>0.318073</td>\n",
       "      <td>-0.175874</td>\n",
       "      <td>-0.187941</td>\n",
       "      <td>0.217650</td>\n",
       "      <td>-1.000000</td>\n",
       "      <td>-1.000000</td>\n",
       "      <td>0.999600</td>\n",
       "      <td>1.000000</td>\n",
       "      <td>0.009448</td>\n",
       "    </tr>\n",
       "    <tr>\n",
       "      <th>THRM_EFF</th>\n",
       "      <td>0.922894</td>\n",
       "      <td>0.839822</td>\n",
       "      <td>0.612165</td>\n",
       "      <td>0.586325</td>\n",
       "      <td>0.110034</td>\n",
       "      <td>0.029070</td>\n",
       "      <td>0.065446</td>\n",
       "      <td>-0.009448</td>\n",
       "      <td>-0.009448</td>\n",
       "      <td>0.006921</td>\n",
       "      <td>0.009448</td>\n",
       "      <td>1.000000</td>\n",
       "    </tr>\n",
       "  </tbody>\n",
       "</table>\n",
       "</div>"
      ],
      "text/plain": [
       "                 CMP_SPEED_MEAN  POWER_MEAN  FUEL_FLOW_MEAN  CO2_MEAN  \\\n",
       "CMP_SPEED_MEAN         1.000000    0.876262        0.715926  0.688445   \n",
       "POWER_MEAN             0.876262    1.000000        0.939829  0.856205   \n",
       "FUEL_FLOW_MEAN         0.715926    0.939829        1.000000  0.889694   \n",
       "CO2_MEAN               0.688445    0.856205        0.889694  1.000000   \n",
       "LATITUDE               0.000879    0.203047        0.213187  0.125139   \n",
       "LONGITUDE              0.068601    0.143626        0.205546  0.109924   \n",
       "ELEVATION              0.010836   -0.436425       -0.679715 -0.556655   \n",
       "FUEL_N2_MOL_PCT       -0.017126    0.091262        0.147548 -0.318073   \n",
       "FUEL_MW               -0.017126    0.091262        0.147548 -0.318073   \n",
       "FUEL_LHV               0.019025   -0.088322       -0.141359  0.323631   \n",
       "CO2_FUEL_RATIO         0.017126   -0.091262       -0.147548  0.318073   \n",
       "THRM_EFF               0.922894    0.839822        0.612165  0.586325   \n",
       "\n",
       "                 LATITUDE  LONGITUDE  ELEVATION  FUEL_N2_MOL_PCT   FUEL_MW  \\\n",
       "CMP_SPEED_MEAN   0.000879   0.068601   0.010836        -0.017126 -0.017126   \n",
       "POWER_MEAN       0.203047   0.143626  -0.436425         0.091262  0.091262   \n",
       "FUEL_FLOW_MEAN   0.213187   0.205546  -0.679715         0.147548  0.147548   \n",
       "CO2_MEAN         0.125139   0.109924  -0.556655        -0.318073 -0.318073   \n",
       "LATITUDE         1.000000  -0.243928  -0.267988         0.175874  0.175874   \n",
       "LONGITUDE       -0.243928   1.000000  -0.225202         0.187941  0.187941   \n",
       "ELEVATION       -0.267988  -0.225202   1.000000        -0.217650 -0.217650   \n",
       "FUEL_N2_MOL_PCT  0.175874   0.187941  -0.217650         1.000000  1.000000   \n",
       "FUEL_MW          0.175874   0.187941  -0.217650         1.000000  1.000000   \n",
       "FUEL_LHV        -0.182999  -0.180183   0.211021        -0.999600 -0.999600   \n",
       "CO2_FUEL_RATIO  -0.175874  -0.187941   0.217650        -1.000000 -1.000000   \n",
       "THRM_EFF         0.110034   0.029070   0.065446        -0.009448 -0.009448   \n",
       "\n",
       "                 FUEL_LHV  CO2_FUEL_RATIO  THRM_EFF  \n",
       "CMP_SPEED_MEAN   0.019025        0.017126  0.922894  \n",
       "POWER_MEAN      -0.088322       -0.091262  0.839822  \n",
       "FUEL_FLOW_MEAN  -0.141359       -0.147548  0.612165  \n",
       "CO2_MEAN         0.323631        0.318073  0.586325  \n",
       "LATITUDE        -0.182999       -0.175874  0.110034  \n",
       "LONGITUDE       -0.180183       -0.187941  0.029070  \n",
       "ELEVATION        0.211021        0.217650  0.065446  \n",
       "FUEL_N2_MOL_PCT -0.999600       -1.000000 -0.009448  \n",
       "FUEL_MW         -0.999600       -1.000000 -0.009448  \n",
       "FUEL_LHV         1.000000        0.999600  0.006921  \n",
       "CO2_FUEL_RATIO   0.999600        1.000000  0.009448  \n",
       "THRM_EFF         0.006921        0.009448  1.000000  "
      ]
     },
     "execution_count": 17,
     "metadata": {},
     "output_type": "execute_result"
    }
   ],
   "source": [
    "engine_final_num.corr(method='pearson')"
   ]
  },
  {
   "cell_type": "code",
   "execution_count": 18,
   "id": "a71fdab6",
   "metadata": {},
   "outputs": [
    {
     "data": {
      "text/plain": [
       "<AxesSubplot:>"
      ]
     },
     "execution_count": 18,
     "metadata": {},
     "output_type": "execute_result"
    },
    {
     "data": {
      "image/png": "[encoded data removed]",
      "text/plain": [
       "<Figure size 432x288 with 2 Axes>"
      ]
     },
     "metadata": {
      "needs_background": "light"
     },
     "output_type": "display_data"
    }
   ],
   "source": [
    "sns.heatmap(engine_final_num.corr())"
   ]
  },
  {
   "cell_type": "markdown",
   "id": "57cd8e41",
   "metadata": {},
   "source": [
    "When it comes to Thermal Efficiency, values that seem to correlate well with higher thermal efficency are the `CMP_SPEED_MEAN` (compressor speedin RPM), the `POWER_MEAN` (power output from the Low-Pressure Turbine (LPT) in kW). There are also values that do not correlate quite as well but do have some noticable correlation such as the `FUEL_FLOW_MEAN` (fuel flow into the combustor in kg/s) and the `CO2_MEAN` (carbon dioxide estimated emissions in kg/s). \n",
    "\n",
    "Lets make a scatterplot to visualize these correlations below"
   ]
  },
  {
   "cell_type": "code",
   "execution_count": 19,
   "id": "b0d2a6ca",
   "metadata": {},
   "outputs": [
    {
     "data": {
      "text/plain": [
       "Text(0.5, 1.0, 'Thermal Efficiency vs CO2 Emissions')"
      ]
     },
     "execution_count": 19,
     "metadata": {},
     "output_type": "execute_result"
    },
    {
     "data": {
      "image/png": "[encoded data removed]",
      "text/plain": [
       "<Figure size 720x432 with 4 Axes>"
      ]
     },
     "metadata": {
      "needs_background": "light"
     },
     "output_type": "display_data"
    }
   ],
   "source": [
    "fig, ax = plt.subplots(2, 2, constrained_layout = True, figsize = (10, 6))\n",
    "\n",
    "ax[0,0].scatter(engine_final_num['THRM_EFF'], engine_final_num['CMP_SPEED_MEAN'], cmap = \"RdBu_r\", \n",
    "                c = engine_final_num['THRM_EFF'] - engine_final_num['CMP_SPEED_MEAN'])\n",
    "ax[0,0].set_title(\"Thermal Efficiency vs Compressor Speed\")\n",
    "\n",
    "ax[0,1].scatter(engine_final_num['THRM_EFF'], engine_final_num['POWER_MEAN'], cmap = \"RdBu_r\", \n",
    "                c = engine_final_num['THRM_EFF'] - engine_final_num['POWER_MEAN'])\n",
    "ax[0,1].set_title(\"Thermal Efficiency vs Power Output\")\n",
    "\n",
    "ax[1,0].scatter(engine_final_num['THRM_EFF'], engine_final_num['FUEL_FLOW_MEAN'], cmap = \"RdBu_r\", \n",
    "                c = engine_final_num['THRM_EFF'] - engine_final_num['FUEL_FLOW_MEAN'])\n",
    "ax[1,0].set_title(\"Thermal Efficiency vs Fuel Flow\")\n",
    "\n",
    "ax[1,1].scatter(engine_final_num['THRM_EFF'], engine_final_num['CO2_MEAN'], cmap = \"RdBu_r\", \n",
    "                c = engine_final_num['THRM_EFF'] - engine_final_num['CO2_MEAN'])\n",
    "ax[1,1].set_title(\"Thermal Efficiency vs CO2 Emissions\")\n"
   ]
  },
  {
   "cell_type": "markdown",
   "id": "f248d7c8",
   "metadata": {},
   "source": [
    "We can conclude that higher compressor speed, power output, and fuel flow is associated with higher fuel efficiencies. It seems reasonable that power output and compressor speed lead to more thermal efficiency. It is a bit surprising to see a sizable correlation between fuel flow and thermal efficiency since the formula previously prevented shows that a lower fuel flow will result in less thermal efficiency. There is also a somewhat positive correlation between thermal efficiency and CO2 Emissions which shows that thermal efficiency may not necessarily lead to lower carbon emissions."
   ]
  },
  {
   "cell_type": "markdown",
   "id": "58b31096",
   "metadata": {},
   "source": [
    "Another Noticable correlation is a negative correlation between `ELEVATION` and `CO2_MEAN`."
   ]
  },
  {
   "cell_type": "code",
   "execution_count": 20,
   "id": "9a58f676",
   "metadata": {},
   "outputs": [
    {
     "data": {
      "text/plain": [
       "Text(0.5, 1.0, 'CO2_MEAN VS ELEVATION')"
      ]
     },
     "execution_count": 20,
     "metadata": {},
     "output_type": "execute_result"
    },
    {
     "data": {
      "image/png": "[encoded data removed]",
      "text/plain": [
       "<Figure size 432x288 with 1 Axes>"
      ]
     },
     "metadata": {
      "needs_background": "light"
     },
     "output_type": "display_data"
    }
   ],
   "source": [
    "plotdata = engine_final_num.plot.scatter(x='ELEVATION', y='CO2_MEAN', )\n",
    "plt.title('CO2_MEAN VS ELEVATION')"
   ]
  },
  {
   "cell_type": "markdown",
   "id": "cb21b057",
   "metadata": {},
   "source": [
    "This could indicate that building gas turbines in lower elevation areas can possibly reduce CO2 emissions. "
   ]
  },
  {
   "cell_type": "markdown",
   "id": "2dae1a07",
   "metadata": {},
   "source": [
    "# Plants that contain desirable attributes"
   ]
  },
  {
   "cell_type": "markdown",
   "id": "ca34a957",
   "metadata": {},
   "source": [
    "Since we just determined that compressor speed and power output have a strong relationship with higher fuel efficiency. Lets see if we can identify specific gas turbine plants that stand out in these areas."
   ]
  },
  {
   "cell_type": "code",
   "execution_count": 21,
   "id": "1d5b56c5",
   "metadata": {},
   "outputs": [
    {
     "data": {
      "text/plain": [
       "Text(0, 0.5, 'Compressor Speed (RPM)')"
      ]
     },
     "execution_count": 21,
     "metadata": {},
     "output_type": "execute_result"
    },
    {
     "data": {
      "image/png": "[encoded data removed]",
      "text/plain": [
       "<Figure size 1080x720 with 1 Axes>"
      ]
     },
     "metadata": {},
     "output_type": "display_data"
    }
   ],
   "source": [
    "grouped_plant2 = engine_final.groupby('PLANT_NAME')\n",
    "cmpspeed_plant = grouped_plant2['CMP_SPEED_MEAN']\n",
    "cmpspeed_plant_mean = cmpspeed_plant.mean().round(decimals = 4).sort_values(ascending = False)\n",
    "\n",
    "plotdata = cmpspeed_plant_mean\n",
    "\n",
    "plt.rc('xtick', labelsize=8)\n",
    "plt.rc('ytick', labelsize=8)\n",
    "plt.rc('axes', labelsize=10)\n",
    "\n",
    "plt.figure(facecolor='orange', figsize = (15,10))\n",
    "plt.title(\"Compressor Speed based on Plant Name\")\n",
    "\n",
    "plotdata.plot(kind=\"bar\", color = \"#86C5DA\")\n",
    "plt.xlabel(\"Plant Names\")\n",
    "plt.ylabel(\"Compressor Speed (RPM)\")"
   ]
  },
  {
   "cell_type": "markdown",
   "id": "48775348",
   "metadata": {},
   "source": [
    "Annoying-Sponge has the highest compressor speed while Premium-Moth has the lowest compressor speed. Overall, most of these plants have around the same compressor speed. "
   ]
  },
  {
   "cell_type": "code",
   "execution_count": 22,
   "id": "9f29b058",
   "metadata": {},
   "outputs": [
    {
     "data": {
      "text/plain": [
       "Text(0, 0.5, 'Power Output (kW)')"
      ]
     },
     "execution_count": 22,
     "metadata": {},
     "output_type": "execute_result"
    },
    {
     "data": {
      "image/png": "[encoded data removed]",
      "text/plain": [
       "<Figure size 1080x720 with 1 Axes>"
      ]
     },
     "metadata": {},
     "output_type": "display_data"
    }
   ],
   "source": [
    "grouped_plant3 = engine_final.groupby('PLANT_NAME')\n",
    "power_plant = grouped_plant3['POWER_MEAN']\n",
    "power_plant_mean = power_plant.mean().round(decimals = 4).sort_values(ascending = False)\n",
    "\n",
    "plotdata = power_plant_mean\n",
    "\n",
    "plt.rc('xtick', labelsize=8)\n",
    "plt.rc('ytick', labelsize=8)\n",
    "plt.rc('axes', labelsize=10)\n",
    "\n",
    "plt.figure(facecolor='orange', figsize = (15,10))\n",
    "plt.title(\"Power Output based on Plant\")\n",
    "\n",
    "plotdata.plot(kind=\"bar\", color = \"#ADB7E6\")\n",
    "plt.xlabel(\"Plant Names\")\n",
    "plt.ylabel(\"Power Output (kW)\")"
   ]
  },
  {
   "cell_type": "markdown",
   "id": "64fc7685",
   "metadata": {},
   "source": [
    "Angelic-Reindeer has the highest power output from their Low-Pressure Turbine while Premium-Moth has the lowest power output. In terms of power it may be desirable to choose plants such as Angelic Reindeer, Rery Bobcat, and Annoying sponge. "
   ]
  },
  {
   "cell_type": "markdown",
   "id": "440b9b0b",
   "metadata": {},
   "source": [
    "# 5. Conclusion"
   ]
  },
  {
   "cell_type": "markdown",
   "id": "fdff9ada",
   "metadata": {},
   "source": [
    "Our key findings through this project are:\n",
    "- Compressor speed and power output are strongly related to higher fuel efficiencies\n",
    "- Fuel efficiency has not necessarily lead to a reduction in CO2 emissions\n",
    "- CO2 emissions tend to be lower in turbines located in lower elevation areas\n",
    "- Most gas turbine plants in the data have similar wind turbine speeds\n",
    "- The top 3 gas turbine plants in terms of power are Angelic Reindeer, Rery Bobcat, and Annoying Sponge\n",
    "    "
   ]
  },
  {
   "cell_type": "markdown",
   "id": "32e95bbd",
   "metadata": {},
   "source": [
    "Currently it seems that gas turbine plants with high power and compressor speed are unable to generate energy at a way that reduces carbon emissions on the environment. A solution to this could be to adjust power plant locations so that they could be in higher elevation areas. "
   ]
  }
 ],
 "metadata": {
  "kernelspec": {
   "display_name": "Python 3 (ipykernel)",
   "language": "python",
   "name": "python3"
  },
  "language_info": {
   "codemirror_mode": {
    "name": "ipython",
    "version": 3
   },
   "file_extension": ".py",
   "mimetype": "text/x-python",
   "name": "python",
   "nbconvert_exporter": "python",
   "pygments_lexer": "ipython3",
   "version": "3.9.7"
  }
 },
 "nbformat": 4,
 "nbformat_minor": 5
}
